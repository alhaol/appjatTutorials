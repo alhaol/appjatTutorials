{
 "cells": [
  {
   "cell_type": "code",
   "execution_count": 2,
   "metadata": {
    "collapsed": false
   },
   "outputs": [
    {
     "name": "stderr",
     "output_type": "stream",
     "text": [
      "2017-09-22 10:12:10,954 appJar:WARNING: Interactive mode is not fully tested, some features might not work.\n",
      "2017-09-22 10:12:10,956 appJar:WARNING: iPython is not fully tested, some features might not work.\n"
     ]
    },
    {
     "ename": "Exception",
     "evalue": "Image C:\\Users\\iabualhaol\\Desktop\\GSM_HEAT_MAPS_4PREC\\appjatTutorials\\OFF.gif does not exist",
     "output_type": "error",
     "traceback": [
      "\u001b[0;31m\u001b[0m",
      "\u001b[0;31mException\u001b[0mTraceback (most recent call last)",
      "\u001b[0;32m<ipython-input-2-e7ff2d757760>\u001b[0m in \u001b[0;36m<module>\u001b[0;34m()\u001b[0m\n\u001b[1;32m     18\u001b[0m \u001b[1;33m\u001b[0m\u001b[0m\n\u001b[1;32m     19\u001b[0m \u001b[1;31m# link the buttons to the function called press\u001b[0m\u001b[1;33m\u001b[0m\u001b[1;33m\u001b[0m\u001b[0m\n\u001b[0;32m---> 20\u001b[0;31m \u001b[0mapp\u001b[0m\u001b[1;33m.\u001b[0m\u001b[0maddImage\u001b[0m\u001b[1;33m(\u001b[0m\u001b[1;34m'Light'\u001b[0m\u001b[1;33m,\u001b[0m\u001b[1;34m'OFF.gif'\u001b[0m\u001b[1;33m)\u001b[0m\u001b[1;33m\u001b[0m\u001b[0m\n\u001b[0m\u001b[1;32m     21\u001b[0m \u001b[0mapp\u001b[0m\u001b[1;33m.\u001b[0m\u001b[0maddButtons\u001b[0m\u001b[1;33m(\u001b[0m\u001b[1;33m[\u001b[0m\u001b[1;34m\"ON\"\u001b[0m\u001b[1;33m,\u001b[0m \u001b[1;34m\"OFF\"\u001b[0m\u001b[1;33m]\u001b[0m\u001b[1;33m,\u001b[0m \u001b[0mpress\u001b[0m\u001b[1;33m)\u001b[0m\u001b[1;33m\u001b[0m\u001b[0m\n\u001b[1;32m     22\u001b[0m \u001b[0mapp\u001b[0m\u001b[1;33m.\u001b[0m\u001b[0maddButton\u001b[0m\u001b[1;33m(\u001b[0m\u001b[1;34m'Exit'\u001b[0m\u001b[1;33m,\u001b[0m\u001b[0mpress\u001b[0m\u001b[1;33m)\u001b[0m\u001b[1;33m\u001b[0m\u001b[0m\n",
      "\u001b[0;32mC:\\Users\\iabualhaol\\AppData\\Local\\Continuum\\Anaconda2\\lib\\site-packages\\appJar\\appjar.pyc\u001b[0m in \u001b[0;36maddImage\u001b[0;34m(self, name, imageFile, row, column, colspan, rowspan)\u001b[0m\n\u001b[1;32m   5104\u001b[0m         \u001b[1;31m#image = re.escape(image)\u001b[0m\u001b[1;33m\u001b[0m\u001b[1;33m\u001b[0m\u001b[0m\n\u001b[1;32m   5105\u001b[0m         \u001b[0mself\u001b[0m\u001b[1;33m.\u001b[0m\u001b[0m__verifyItem\u001b[0m\u001b[1;33m(\u001b[0m\u001b[0mself\u001b[0m\u001b[1;33m.\u001b[0m\u001b[0mn_images\u001b[0m\u001b[1;33m,\u001b[0m \u001b[0mname\u001b[0m\u001b[1;33m,\u001b[0m \u001b[0mTrue\u001b[0m\u001b[1;33m)\u001b[0m\u001b[1;33m\u001b[0m\u001b[0m\n\u001b[0;32m-> 5106\u001b[0;31m         \u001b[0mimgObj\u001b[0m \u001b[1;33m=\u001b[0m \u001b[0mself\u001b[0m\u001b[1;33m.\u001b[0m\u001b[0m__getImage\u001b[0m\u001b[1;33m(\u001b[0m\u001b[0mimageFile\u001b[0m\u001b[1;33m)\u001b[0m\u001b[1;33m\u001b[0m\u001b[0m\n\u001b[0m\u001b[1;32m   5107\u001b[0m         \u001b[0mself\u001b[0m\u001b[1;33m.\u001b[0m\u001b[0m__addImageObj\u001b[0m\u001b[1;33m(\u001b[0m\u001b[0mname\u001b[0m\u001b[1;33m,\u001b[0m \u001b[0mimgObj\u001b[0m\u001b[1;33m,\u001b[0m \u001b[0mrow\u001b[0m\u001b[1;33m,\u001b[0m \u001b[0mcolumn\u001b[0m\u001b[1;33m,\u001b[0m \u001b[0mcolspan\u001b[0m\u001b[1;33m,\u001b[0m \u001b[0mrowspan\u001b[0m\u001b[1;33m)\u001b[0m\u001b[1;33m\u001b[0m\u001b[0m\n\u001b[1;32m   5108\u001b[0m         \u001b[1;32mreturn\u001b[0m \u001b[0mimgObj\u001b[0m\u001b[1;33m\u001b[0m\u001b[0m\n",
      "\u001b[0;32mC:\\Users\\iabualhaol\\AppData\\Local\\Continuum\\Anaconda2\\lib\\site-packages\\appJar\\appjar.pyc\u001b[0m in \u001b[0;36m__getImage\u001b[0;34m(self, imagePath, checkCache, addToCache)\u001b[0m\n\u001b[1;32m   4983\u001b[0m                 \u001b[1;32mraise\u001b[0m \u001b[0mException\u001b[0m\u001b[1;33m(\u001b[0m\u001b[1;34m\"Can't read image: \"\u001b[0m \u001b[1;33m+\u001b[0m \u001b[0mimagePath\u001b[0m\u001b[1;33m)\u001b[0m\u001b[1;33m\u001b[0m\u001b[0m\n\u001b[1;32m   4984\u001b[0m         \u001b[1;32melse\u001b[0m\u001b[1;33m:\u001b[0m\u001b[1;33m\u001b[0m\u001b[0m\n\u001b[0;32m-> 4985\u001b[0;31m             \u001b[1;32mraise\u001b[0m \u001b[0mException\u001b[0m\u001b[1;33m(\u001b[0m\u001b[1;34m\"Image \"\u001b[0m \u001b[1;33m+\u001b[0m \u001b[0mimagePath\u001b[0m \u001b[1;33m+\u001b[0m \u001b[1;34m\" does not exist\"\u001b[0m\u001b[1;33m)\u001b[0m\u001b[1;33m\u001b[0m\u001b[0m\n\u001b[0m\u001b[1;32m   4986\u001b[0m \u001b[1;33m\u001b[0m\u001b[0m\n\u001b[1;32m   4987\u001b[0m         \u001b[1;31m# store the full poath to this image\u001b[0m\u001b[1;33m\u001b[0m\u001b[1;33m\u001b[0m\u001b[0m\n",
      "\u001b[0;31mException\u001b[0m: Image C:\\Users\\iabualhaol\\Desktop\\GSM_HEAT_MAPS_4PREC\\appjatTutorials\\OFF.gif does not exist"
     ]
    }
   ],
   "source": [
    "# import the library\n",
    "from appJar import gui\n",
    "\n",
    "# handle button events\n",
    "def press(button):\n",
    "    if button == \"Exit\":\n",
    "        app.stop()\n",
    "    if button==\"ON\":\n",
    "        app.setImage('Light','images/ON.gif')\n",
    "\n",
    "    if button==\"OFF\":\n",
    "        app.setImage('Light', 'images/OFF.gif')\n",
    "\n",
    "# create a GUI variable called app\n",
    "app = gui(\"Lights\", \"400x400\")\n",
    "app.setBg(\"gray\")\n",
    "app.setFont(18)\n",
    "\n",
    "# link the buttons to the function called press\n",
    "app.addImage('Light','OFF.gif')\n",
    "app.addButtons([\"ON\", \"OFF\"], press)\n",
    "app.addButton('Exit',press)\n",
    "\n",
    "# start the GUI\n",
    "app.go()"
   ]
  },
  {
   "cell_type": "code",
   "execution_count": null,
   "metadata": {
    "collapsed": true
   },
   "outputs": [],
   "source": []
  }
 ],
 "metadata": {
  "kernelspec": {
   "display_name": "Python [conda root]",
   "language": "python",
   "name": "conda-root-py"
  },
  "language_info": {
   "codemirror_mode": {
    "name": "ipython",
    "version": 2
   },
   "file_extension": ".py",
   "mimetype": "text/x-python",
   "name": "python",
   "nbconvert_exporter": "python",
   "pygments_lexer": "ipython2",
   "version": "2.7.12"
  }
 },
 "nbformat": 4,
 "nbformat_minor": 2
}
