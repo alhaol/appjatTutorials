{
 "cells": [
  {
   "cell_type": "code",
   "execution_count": null,
   "metadata": {
    "collapsed": true
   },
   "outputs": [],
   "source": [
    "# import the library\n",
    "from appJar import gui\n",
    "\n",
    "# handleing \n",
    "\n",
    "def press(name):\n",
    "    if name=='Exit':\n",
    "        app.stop()\n",
    "    else:\n",
    "        try:\n",
    "            firstNum=int(app.getEntry('first'))\n",
    "            secondNum=int(app.getEntry('second'))\n",
    "            message=\"Results are as follows : \\n\\n\"\n",
    "            message+=\"Addition:\"+str(firstNum+secondNum) +\"\\n\"\n",
    "            message+=\"Subtraction:\"+str(firstNum-secondNum) +\"\\n\"\n",
    "            message+=\"Multiplication:\"+str(firstNum*secondNum) +\"\\n\"\n",
    "            message+=\"Division:\"+str(firstNum/float(secondNum)) +\"\\n\"\n",
    "            if name==\"Result\":\n",
    "                app.setLabel(\"Result\",message)\n",
    "            elif name==\"MessageBox Results\":\n",
    "                app.infoBox('Result',message)\n",
    "\n",
    "        except ValueError as e:\n",
    "            app.errorBox(\"Error\",\"Invalid Number\")\n",
    "            app.setFocus('first')\n",
    "\n",
    "\n",
    "# create a GUI variable called app\n",
    "app = gui(\"Calculator\")\n",
    "# adding 2 labels % buttons with column row specification \n",
    "app.addLabel('fn','First Number',0,0)\n",
    "app.addEntry('first',0,1)\n",
    "app.addLabel('sn','Second Number',0,2)\n",
    "app.addEntry('second',0,3)\n",
    "app.setFocus('first')\n",
    "\n",
    "# Formating  (streching 4 columns) \n",
    "app.addEmptyLabel(\"Result\",1,0,4)\n",
    "# Format the label \n",
    "app.setLabelRelief('Result',app.GROOVE)\n",
    "app.setLabelAlign('Result',app.NW)\n",
    "app.setLabelHeight('Result',8)\n",
    "\n",
    "# add the buttons \n",
    "app.addButtons([\"Result\",\"MessageBox Results\",\"Exit\"],press,2,0,4)\n",
    "\n",
    "# start the GUI\n",
    "app.go()"
   ]
  }
 ],
 "metadata": {
  "kernelspec": {
   "display_name": "Python 3",
   "language": "python",
   "name": "python3"
  },
  "language_info": {
   "codemirror_mode": {
    "name": "ipython",
    "version": 3
   },
   "file_extension": ".py",
   "mimetype": "text/x-python",
   "name": "python",
   "nbconvert_exporter": "python",
   "pygments_lexer": "ipython3",
   "version": "3.6.1"
  }
 },
 "nbformat": 4,
 "nbformat_minor": 2
}
