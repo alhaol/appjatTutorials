{
 "cells": [
  {
   "cell_type": "code",
   "execution_count": 1,
   "metadata": {
    "collapsed": false
   },
   "outputs": [
    {
     "name": "stderr",
     "output_type": "stream",
     "text": [
      "No handlers could be found for logger \"appJar\"\n"
     ]
    }
   ],
   "source": [
    "# import the library\n",
    "from appJar import gui\n",
    "\n",
    "# handle button events\n",
    "def press(button):\n",
    "    if button == \"Exit\":\n",
    "        app.stop()\n",
    "    if button==\"ON\":\n",
    "        app.setImage('Light','images/ON.gif')\n",
    "\n",
    "    if button==\"OFF\":\n",
    "        app.setImage('Light', 'images/OFF.gif')\n",
    "\n",
    "# create a GUI variable called app\n",
    "app = gui(\"Lights\", \"400x400\")\n",
    "app.setBg(\"gray\")\n",
    "app.setFont(18)\n",
    "\n",
    "# link the buttons to the function called press\n",
    "app.addImage('Light','images/OFF.gif')\n",
    "app.addButtons([\"ON\", \"OFF\"], press)\n",
    "app.addButton('Exit',press)\n",
    "\n",
    "# start the GUI\n",
    "app.go()"
   ]
  },
  {
   "cell_type": "code",
   "execution_count": 3,
   "metadata": {
    "collapsed": false
   },
   "outputs": [
    {
     "name": "stderr",
     "output_type": "stream",
     "text": [
      "[NbConvertApp] Converting notebook ON_OFF.ipynb to script\n",
      "[NbConvertApp] Writing 671 bytes to ON_OFF.py\n"
     ]
    }
   ],
   "source": [
    "!jupyter nbconvert --to script ON_OFF.ipynb"
   ]
  },
  {
   "cell_type": "code",
   "execution_count": null,
   "metadata": {
    "collapsed": true
   },
   "outputs": [],
   "source": []
  }
 ],
 "metadata": {
  "anaconda-cloud": {},
  "kernelspec": {
   "display_name": "Python [conda root]",
   "language": "python",
   "name": "conda-root-py"
  },
  "language_info": {
   "codemirror_mode": {
    "name": "ipython",
    "version": 2
   },
   "file_extension": ".py",
   "mimetype": "text/x-python",
   "name": "python",
   "nbconvert_exporter": "python",
   "pygments_lexer": "ipython2",
   "version": "2.7.12"
  }
 },
 "nbformat": 4,
 "nbformat_minor": 2
}
