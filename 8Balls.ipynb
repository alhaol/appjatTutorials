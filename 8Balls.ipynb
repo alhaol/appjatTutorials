{
 "cells": [
  {
   "cell_type": "code",
   "execution_count": 3,
   "metadata": {
    "collapsed": false
   },
   "outputs": [
    {
     "name": "stderr",
     "output_type": "stream",
     "text": [
      "2017-09-22 10:17:06,489 appJar:WARNING: Interactive mode is not fully tested, some features might not work.\n",
      "2017-09-22 10:17:06,490 appJar:WARNING: iPython is not fully tested, some features might not work.\n"
     ]
    }
   ],
   "source": [
    "# import the library\n",
    "from appJar import gui\n",
    "import random\n",
    "# list of answers \n",
    "answers=['Are you sure', 'This is interesting', 'Pick again']\n",
    "# handle button events\n",
    "def shake(name):\n",
    "    global answers\n",
    "    tempAns=app.getEntry(\"Question\")\n",
    "    Nspaces=tempAns.split(' ')\n",
    "    if len(app.getEntry(\"Question\"))==0:\n",
    "        app.errorBox(\"Error\",\"You must ask a Question\")\n",
    "    elif ((len(Nspaces)>=3) & ((Nspaces[0]=='who') | (Nspaces[0]=='what'))) :\n",
    "        #app.playSound('buzz.wav')\n",
    "        answer=random.choice(answers)\n",
    "        app.setLabel(\"Answer\",answer)\n",
    "    else:\n",
    "        app.errorBox(\"Error\",\"You queation should have 3 spaces and start with who or what\")\n",
    "\n",
    "def clear(name):\n",
    "    app.clearEntry(\"Question\")\n",
    "    app.clearLabel(\"Answer\")\n",
    "# create a GUI variable called app\n",
    "app = gui(\"Magic 8 Ball\",geom=\"300x400\")\n",
    "app.setResizable(False)\n",
    "app.setBg(\"gray\")\n",
    "app.setFont(18)\n",
    "\n",
    "# Add the 4 rows of widgets \n",
    "app.addEntry(\"Question\")\n",
    "app.addButtons([\"shake\",\"Clear\"],[shake,clear])\n",
    "app.addImage(\"8ball\",\"images/8-ball.gif\")\n",
    "app.addEmptyLabel(\"Answer\")\n",
    "app.setLabelBg('Answer','Yellow')\n",
    "\n",
    "# Little configuration\n",
    "app.setFocus(\"Question\")\n",
    "# start the GUI\n",
    "app.go()"
   ]
  },
  {
   "cell_type": "code",
   "execution_count": null,
   "metadata": {
    "collapsed": true
   },
   "outputs": [],
   "source": []
  }
 ],
 "metadata": {
  "anaconda-cloud": {},
  "kernelspec": {
   "display_name": "Python [conda root]",
   "language": "python",
   "name": "conda-root-py"
  },
  "language_info": {
   "codemirror_mode": {
    "name": "ipython",
    "version": 2
   },
   "file_extension": ".py",
   "mimetype": "text/x-python",
   "name": "python",
   "nbconvert_exporter": "python",
   "pygments_lexer": "ipython2",
   "version": "2.7.12"
  }
 },
 "nbformat": 4,
 "nbformat_minor": 2
}
